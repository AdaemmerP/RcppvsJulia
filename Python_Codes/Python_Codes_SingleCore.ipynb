{
 "cells": [
  {
   "cell_type": "code",
   "execution_count": 2,
   "metadata": {},
   "outputs": [],
   "source": [
    "# Import libraries\n",
    "import math\n",
    "import numpy as np\n",
    "import scipy.stats\n",
    "import itertools\n"
   ]
  },
  {
   "cell_type": "markdown",
   "metadata": {},
   "source": [
    "## 1.) Full Loop, no pre-allocation \n"
   ]
  },
  {
   "cell_type": "code",
   "execution_count": 2,
   "metadata": {},
   "outputs": [
    {
     "name": "stdout",
     "output_type": "stream",
     "text": [
      "0.9326073\n",
      "0.9364108\n",
      "0.9557936\n"
     ]
    }
   ],
   "source": [
    "# Function to compute all confidence intervals\n",
    "def ciallf(x, z, n, a1, a2):\n",
    "  \n",
    "  # Wald CI\n",
    "    c0  = x/n   \n",
    "    c1  = z*(math.sqrt(c0*(1 - c0)/n))\n",
    "\n",
    "  # Wilson CI\n",
    "    b0    = (1/(1 +  z**2/n))*(c0 + (z**2)/(2*n))\n",
    "    b1    = (z/(1 + (z**2/n)))*math.sqrt((c0*(1 - c0)/n) + z**2/(4*n**2)  )\n",
    "\n",
    "  # Lower Clopper Pearson\n",
    "    if x == 0:\n",
    "      cplow = 0\n",
    "    else:\n",
    "      cplow = scipy.stats.beta.ppf(a1, x, n - x + 1)\n",
    "      \n",
    "  # Upper Clopper Pearson\n",
    "    if x == n:\n",
    "      cpup = 1\n",
    "    else:\n",
    "      cpup = scipy.stats.beta.ppf(a2, x + 1, n - x) \n",
    "      \n",
    "  # Return values of function    \n",
    "    return np.array([(c0 - c1), (c0 + c1), \n",
    "                     (b0 - b1), (b0 + b1),\n",
    "                     cplow, cpup]) \n",
    "      \n",
    "# Set parameters   \n",
    "n     = 100\n",
    "N     = 10_000_000\n",
    "p     = 0.1\n",
    "alpha = 0.05\n",
    "z     = scipy.stats.norm.ppf(1 - 0.05/2)\n",
    "x     = np.random.binomial(n, p, N) \n",
    "a1    = alpha/2\n",
    "a2    = (1 - alpha/2)\n",
    "\n",
    "# Pre allocate result vector\n",
    "vec_covered = np.empty((N, 3), dtype = bool)\n",
    "\n",
    "for i, xval in enumerate(x):\n",
    "  results           = ciallf(xval, z, n, a1, a2) \n",
    "  vec_covered[i, 0] = results[0] < p < results[1]\n",
    "  vec_covered[i, 1] = results[2] < p < results[3]\n",
    "  vec_covered[i, 2] = results[4] < p < results[5]\n",
    "  \n",
    "# Cover rates\n",
    "print(sum(vec_covered[:, 0])/N) \n",
    "print(sum(vec_covered[:, 1])/N) \n",
    "print(sum(vec_covered[:, 2])/N) "
   ]
  },
  {
   "cell_type": "markdown",
   "metadata": {},
   "source": [
    "## 2.) Half vectorized"
   ]
  },
  {
   "cell_type": "code",
   "execution_count": 6,
   "metadata": {},
   "outputs": [],
   "source": [
    "# Function to compute all confidence intervals\n",
    "def ciallf(x, z, n, cpup, cplow):\n",
    "  \n",
    "  # Wald CI\n",
    "    c0  = x/n   \n",
    "    c1  = z*(math.sqrt(c0*(1 - c0)/n))\n",
    "\n",
    "  # Wilson CI\n",
    "    b0    = (1/(1 +  z**2/n))*(c0 + (z**2)/(2*n))\n",
    "    b1    = (z/(1 + (z**2/n)))*math.sqrt((c0*(1 - c0)/n) + z**2/(4*n**2)  )\n",
    "\n",
    "  # Clopper Pearson CI\n",
    "    cpup  = cpup[x]\n",
    "    cplow = cplow[x]\n",
    "      \n",
    "  # Return values of function    \n",
    "    return np.array([(c0 - c1), (c0 + c1), \n",
    "                     (b0 - b1), (b0 + b1),\n",
    "                     cplow, cpup]) \n",
    "      \n",
    "# Set parameters   \n",
    "n     = 100\n",
    "N     = 10_000_000\n",
    "p     = 0.1\n",
    "alpha = 0.05\n",
    "z     = scipy.stats.norm.ppf(1 - 0.05/2)\n",
    "x     = np.random.binomial(n, p, N) \n",
    "a1    = alpha/2\n",
    "a2    = (1 - alpha/2)\n",
    "\n",
    "# Pre-define Clopper-Pearson confidence intervals\n",
    "cpup = np.array([scipy.stats.beta.ppf(a2, x + 1, n - x) for x in range(101)])\n",
    "cpup = np.nan_to_num(cpup, nan = 1.0)\n",
    "\n",
    "cplow = np.array([scipy.stats.beta.ppf(a1, x, n - x + 1) for x in range(101)])\n",
    "cplow = np.nan_to_num(cplow, nan = 0.0)\n",
    "\n",
    "# Pre allocate result vector\n",
    "vec_covered = np.empty((N, 3), dtype = bool)\n",
    "\n",
    "for i, xval in enumerate(x):\n",
    "  results           = ciallf(xval, z, n, cpup, cplow) \n",
    "  vec_covered[i, 0] = results[0] < p < results[1]\n",
    "  vec_covered[i, 1] = results[2] < p < results[3]\n",
    "  vec_covered[i, 2] = results[4] < p < results[5]\n",
    "  \n",
    "# Cover rates\n",
    "print(sum(vec_covered[:, 0])/N) \n",
    "print(sum(vec_covered[:, 1])/N) \n",
    "print(sum(vec_covered[:, 2])/N) "
   ]
  }
 ],
 "metadata": {
  "kernelspec": {
   "display_name": "Python 3.9.12 ('base')",
   "language": "python",
   "name": "python3"
  },
  "language_info": {
   "codemirror_mode": {
    "name": "ipython",
    "version": 3
   },
   "file_extension": ".py",
   "mimetype": "text/x-python",
   "name": "python",
   "nbconvert_exporter": "python",
   "pygments_lexer": "ipython3",
   "version": "3.9.12"
  },
  "orig_nbformat": 4,
  "vscode": {
   "interpreter": {
    "hash": "9e7446d6a972fff85c191c4feb547d340f7ab5290428c9a6e735a52ef231e3fa"
   }
  }
 },
 "nbformat": 4,
 "nbformat_minor": 2
}
